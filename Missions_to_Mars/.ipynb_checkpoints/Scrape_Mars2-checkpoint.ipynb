{
 "cells": [
  {
   "cell_type": "code",
   "execution_count": null,
   "metadata": {},
   "outputs": [],
   "source": [
    "from splinter import Browser\n",
    "from bs4 import BeautifulSoup"
   ]
  },
  {
   "cell_type": "code",
   "execution_count": null,
   "metadata": {},
   "outputs": [],
   "source": [
    "url='https://astrogeology.usgs.gov/search/results?q=hemisphere+enhanced&k1=target&v1=Mars'"
   ]
  },
  {
   "cell_type": "code",
   "execution_count": null,
   "metadata": {},
   "outputs": [],
   "source": [
    "def scrape_first():\n",
    "    results_list=[]\n",
    "    browser=Browser('chrome', executable_path='/usr/local/bin/chromedriver', headless)\n",
    "    browser.visit(url)\n",
    "    soup=BeautifulSoup(browser.html, 'html.parser')\n",
    "    results=soup.find(class_='collapsible').find_all('item')\n",
    "    for each_result in results:\n",
    "        image_title=each_result.find(class_='description').find('a').find('h3').text\n",
    "        results_list.append(image_title)\n",
    "    for each_name in results_list:\n",
    "        browser.find_link_by_partial_text(each_name).click()\n",
    "        new_soup=BeautifulSoup(browser.html, 'html.parser')\n",
    "        link=new_soup.find(class_='downloads').find('ul').find('li').find('a')['href']\n",
    "        image_urls.append(link)\n",
    "        browser.back()\n",
    "    return image_urls"
   ]
  },
  {
   "cell_type": "code",
   "execution_count": null,
   "metadata": {},
   "outputs": [],
   "source": [
    "def scrape_second():\n",
    "    one_dictionary=''\n",
    "    return one_dictionary"
   ]
  },
  {
   "cell_type": "code",
   "execution_count": null,
   "metadata": {},
   "outputs": [],
   "source": [
    "def scrape_third():\n",
    "    one_dictionary=''\n",
    "    return one_dictionary"
   ]
  },
  {
   "cell_type": "code",
   "execution_count": null,
   "metadata": {},
   "outputs": [],
   "source": [
    "def scrape_all():\n",
    "    all_data={}\n",
    "    all_data['headlines']=scrape_first()\n",
    "    all_data['images_url']=scrape_second()\n",
    "    all_data['url']=scrape_third()\n",
    "    return all_data"
   ]
  }
 ],
 "metadata": {
  "kernelspec": {
   "display_name": "Python 3",
   "language": "python",
   "name": "python3"
  },
  "language_info": {
   "codemirror_mode": {
    "name": "ipython",
    "version": 3
   },
   "file_extension": ".py",
   "mimetype": "text/x-python",
   "name": "python",
   "nbconvert_exporter": "python",
   "pygments_lexer": "ipython3",
   "version": "3.7.6"
  }
 },
 "nbformat": 4,
 "nbformat_minor": 4
}
